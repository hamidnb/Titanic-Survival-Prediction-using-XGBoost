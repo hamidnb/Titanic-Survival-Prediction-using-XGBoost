{
 "cells": [
  {
   "cell_type": "markdown",
   "id": "e7a04a6d",
   "metadata": {
    "papermill": {
     "duration": 0.004356,
     "end_time": "2025-03-08T12:31:56.319156",
     "exception": false,
     "start_time": "2025-03-08T12:31:56.314800",
     "status": "completed"
    },
    "tags": []
   },
   "source": [
    "## First, we import the necessary libraries for data manipulation, visualization, and model building. Get ready to see some cool plots and models in action!\n"
   ]
  },
  {
   "cell_type": "code",
   "execution_count": 1,
   "id": "07d3729d",
   "metadata": {
    "execution": {
     "iopub.execute_input": "2025-03-08T12:31:56.328775Z",
     "iopub.status.busy": "2025-03-08T12:31:56.328371Z",
     "iopub.status.idle": "2025-03-08T12:32:01.014267Z",
     "shell.execute_reply": "2025-03-08T12:32:01.012870Z"
    },
    "papermill": {
     "duration": 4.693447,
     "end_time": "2025-03-08T12:32:01.017049",
     "exception": false,
     "start_time": "2025-03-08T12:31:56.323602",
     "status": "completed"
    },
    "tags": []
   },
   "outputs": [],
   "source": [
    "import numpy as np\n",
    "import pandas as pd\n",
    "import matplotlib.pyplot as plt\n",
    "import seaborn as sns\n",
    "from sklearn.metrics import classification_report\n",
    "from sklearn.model_selection import train_test_split , GridSearchCV , ShuffleSplit\n",
    "from sklearn.preprocessing import StandardScaler\n",
    "from sklearn.metrics import confusion_matrix\n",
    "import seaborn as sns\n",
    "from sklearn.impute import KNNImputer\n",
    "import xgboost as xgb\n",
    "import warnings\n",
    "warnings.filterwarnings('ignore')"
   ]
  },
  {
   "cell_type": "markdown",
   "id": "da0a63c0",
   "metadata": {
    "papermill": {
     "duration": 0.003979,
     "end_time": "2025-03-08T12:32:01.025858",
     "exception": false,
     "start_time": "2025-03-08T12:32:01.021879",
     "status": "completed"
    },
    "tags": []
   },
   "source": [
    "# Data Preprocessing\n"
   ]
  },
  {
   "cell_type": "markdown",
   "id": "152503f6",
   "metadata": {
    "papermill": {
     "duration": 0.005584,
     "end_time": "2025-03-08T12:32:01.035860",
     "exception": false,
     "start_time": "2025-03-08T12:32:01.030276",
     "status": "completed"
    },
    "tags": []
   },
   "source": [
    "## We’ll start by loading the data, cleaning it, and handling missing values using KNN Imputer. Then, we perform feature scaling to make sure our model performs optimally."
   ]
  },
  {
   "cell_type": "code",
   "execution_count": 2,
   "id": "56e516b1",
   "metadata": {
    "execution": {
     "iopub.execute_input": "2025-03-08T12:32:01.047413Z",
     "iopub.status.busy": "2025-03-08T12:32:01.046921Z",
     "iopub.status.idle": "2025-03-08T12:32:01.146284Z",
     "shell.execute_reply": "2025-03-08T12:32:01.144381Z"
    },
    "papermill": {
     "duration": 0.107153,
     "end_time": "2025-03-08T12:32:01.148824",
     "exception": false,
     "start_time": "2025-03-08T12:32:01.041671",
     "status": "completed"
    },
    "tags": []
   },
   "outputs": [],
   "source": [
    "data = pd.read_csv(\"/kaggle/input/titanic/train.csv\")\n",
    "y_train = data[\"Survived\"].values\n",
    "data[\"Sex\"] = data[\"Sex\"].replace({\"male\": 0, \"female\": 1})\n",
    "\n",
    "data.drop(columns=[\"PassengerId\", \"Name\", \"Ticket\", \"Cabin\", \"Embarked\", \"Survived\"], inplace=True)\n",
    "\n",
    "knn_imp = KNNImputer()\n",
    "data = pd.DataFrame(knn_imp.fit_transform(data), columns=data.columns)\n",
    "\n",
    "X_train = data.values\n"
   ]
  },
  {
   "cell_type": "markdown",
   "id": "4a2347d8",
   "metadata": {
    "papermill": {
     "duration": 0.00353,
     "end_time": "2025-03-08T12:32:01.157101",
     "exception": false,
     "start_time": "2025-03-08T12:32:01.153571",
     "status": "completed"
    },
    "tags": []
   },
   "source": [
    "# Test Data Preprocessing\n"
   ]
  },
  {
   "cell_type": "markdown",
   "id": "a4b48ec2",
   "metadata": {
    "papermill": {
     "duration": 0.003243,
     "end_time": "2025-03-08T12:32:01.163949",
     "exception": false,
     "start_time": "2025-03-08T12:32:01.160706",
     "status": "completed"
    },
    "tags": []
   },
   "source": [
    "## The test dataset undergoes the same preprocessing as the training data to ensure consistency."
   ]
  },
  {
   "cell_type": "code",
   "execution_count": 3,
   "id": "471d32ba",
   "metadata": {
    "execution": {
     "iopub.execute_input": "2025-03-08T12:32:01.173021Z",
     "iopub.status.busy": "2025-03-08T12:32:01.172568Z",
     "iopub.status.idle": "2025-03-08T12:32:01.199442Z",
     "shell.execute_reply": "2025-03-08T12:32:01.197711Z"
    },
    "papermill": {
     "duration": 0.033879,
     "end_time": "2025-03-08T12:32:01.201442",
     "exception": false,
     "start_time": "2025-03-08T12:32:01.167563",
     "status": "completed"
    },
    "tags": []
   },
   "outputs": [],
   "source": [
    "test = pd.read_csv(\"/kaggle/input/titanic/test.csv\")\n",
    "passenger_ID = test[\"PassengerId\"]\n",
    "test[\"Sex\"] = test[\"Sex\"].replace({\"male\": 0, \"female\": 1})\n",
    "test.drop(columns=[\"PassengerId\", \"Name\", \"Ticket\", \"Cabin\", \"Embarked\"], inplace=True)\n",
    "\n",
    "knn_imp = KNNImputer()\n",
    "test = pd.DataFrame(knn_imp.fit_transform(test), columns=test.columns)\n",
    "\n",
    "X_test = test.values\n",
    "\n",
    "scaler = StandardScaler()\n",
    "X_train = scaler.fit_transform(X_train)\n",
    "X_test = scaler.transform(X_test)"
   ]
  },
  {
   "cell_type": "markdown",
   "id": "23d414a5",
   "metadata": {
    "papermill": {
     "duration": 0.003392,
     "end_time": "2025-03-08T12:32:01.208931",
     "exception": false,
     "start_time": "2025-03-08T12:32:01.205539",
     "status": "completed"
    },
    "tags": []
   },
   "source": [
    "# Exploratory Data Analysis (EDA)"
   ]
  },
  {
   "cell_type": "markdown",
   "id": "055dc1b6",
   "metadata": {
    "papermill": {
     "duration": 0.003328,
     "end_time": "2025-03-08T12:32:01.215720",
     "exception": false,
     "start_time": "2025-03-08T12:32:01.212392",
     "status": "completed"
    },
    "tags": []
   },
   "source": [
    "## Before jumping into the model, let’s visualize some interesting insights.\n",
    "\n"
   ]
  },
  {
   "cell_type": "markdown",
   "id": "3fd4b8f4",
   "metadata": {
    "papermill": {
     "duration": 0.004116,
     "end_time": "2025-03-08T12:32:01.223257",
     "exception": false,
     "start_time": "2025-03-08T12:32:01.219141",
     "status": "completed"
    },
    "tags": []
   },
   "source": [
    "### Distribution of Survived vs. Not Survived"
   ]
  },
  {
   "cell_type": "code",
   "execution_count": 4,
   "id": "4952bdb2",
   "metadata": {
    "execution": {
     "iopub.execute_input": "2025-03-08T12:32:01.232512Z",
     "iopub.status.busy": "2025-03-08T12:32:01.232054Z",
     "iopub.status.idle": "2025-03-08T12:32:01.448394Z",
     "shell.execute_reply": "2025-03-08T12:32:01.447021Z"
    },
    "papermill": {
     "duration": 0.222557,
     "end_time": "2025-03-08T12:32:01.449915",
     "exception": false,
     "start_time": "2025-03-08T12:32:01.227358",
     "status": "completed"
    },
    "tags": []
   },
   "outputs": [
    {
     "data": {
      "image/png": "[encoded data removed]",
      "text/plain": [
       "<Figure size 800x600 with 1 Axes>"
      ]
     },
     "metadata": {},
     "output_type": "display_data"
    }
   ],
   "source": [
    "plt.figure(figsize=(8, 6))\n",
    "sns.countplot(x=y_train, data=data, palette=\"Set2\")\n",
    "plt.title(\"Survived vs Not Survived\", fontsize=14)\n",
    "plt.xlabel(\"Survival\", fontsize=12)\n",
    "plt.ylabel(\"Count\", fontsize=12)\n",
    "plt.show()"
   ]
  },
  {
   "cell_type": "markdown",
   "id": "be805412",
   "metadata": {
    "papermill": {
     "duration": 0.004094,
     "end_time": "2025-03-08T12:32:01.458499",
     "exception": false,
     "start_time": "2025-03-08T12:32:01.454405",
     "status": "completed"
    },
    "tags": []
   },
   "source": [
    "### Age Distribution of Passengers"
   ]
  },
  {
   "cell_type": "code",
   "execution_count": 5,
   "id": "da9be203",
   "metadata": {
    "execution": {
     "iopub.execute_input": "2025-03-08T12:32:01.468185Z",
     "iopub.status.busy": "2025-03-08T12:32:01.467803Z",
     "iopub.status.idle": "2025-03-08T12:32:01.684262Z",
     "shell.execute_reply": "2025-03-08T12:32:01.682563Z"
    },
    "papermill": {
     "duration": 0.224012,
     "end_time": "2025-03-08T12:32:01.686711",
     "exception": false,
     "start_time": "2025-03-08T12:32:01.462699",
     "status": "completed"
    },
    "tags": []
   },
   "outputs": [
    {
     "data": {
      "image/png": "[encoded data removed]",
      "text/plain": [
       "<Figure size 800x600 with 1 Axes>"
      ]
     },
     "metadata": {},
     "output_type": "display_data"
    }
   ],
   "source": [
    "plt.figure(figsize=(8, 6))\n",
    "sns.histplot(data['Age'], kde=True, color='blue', bins=30)\n",
    "plt.title(\"Age Distribution of Passengers\", fontsize=14)\n",
    "plt.xlabel(\"Age\", fontsize=12)\n",
    "plt.ylabel(\"Frequency\", fontsize=12)\n",
    "plt.show()"
   ]
  },
  {
   "cell_type": "markdown",
   "id": "45a4684a",
   "metadata": {
    "papermill": {
     "duration": 0.004499,
     "end_time": "2025-03-08T12:32:01.696725",
     "exception": false,
     "start_time": "2025-03-08T12:32:01.692226",
     "status": "completed"
    },
    "tags": []
   },
   "source": [
    "# XGBoost Classifier Model"
   ]
  },
  {
   "cell_type": "markdown",
   "id": "cc68cec0",
   "metadata": {
    "papermill": {
     "duration": 0.004331,
     "end_time": "2025-03-08T12:32:01.705532",
     "exception": false,
     "start_time": "2025-03-08T12:32:01.701201",
     "status": "completed"
    },
    "tags": []
   },
   "source": [
    "## Now, let's move on to building the XGBoost model. We’ll fit the model and evaluate it on the training data."
   ]
  },
  {
   "cell_type": "code",
   "execution_count": 6,
   "id": "50e09542",
   "metadata": {
    "execution": {
     "iopub.execute_input": "2025-03-08T12:32:01.716300Z",
     "iopub.status.busy": "2025-03-08T12:32:01.715910Z",
     "iopub.status.idle": "2025-03-08T12:32:01.859786Z",
     "shell.execute_reply": "2025-03-08T12:32:01.858175Z"
    },
    "papermill": {
     "duration": 0.152087,
     "end_time": "2025-03-08T12:32:01.862260",
     "exception": false,
     "start_time": "2025-03-08T12:32:01.710173",
     "status": "completed"
    },
    "tags": []
   },
   "outputs": [
    {
     "name": "stdout",
     "output_type": "stream",
     "text": [
      "              precision    recall  f1-score   support\n",
      "\n",
      "           0       0.96      0.99      0.97       549\n",
      "           1       0.98      0.94      0.96       342\n",
      "\n",
      "    accuracy                           0.97       891\n",
      "   macro avg       0.97      0.96      0.97       891\n",
      "weighted avg       0.97      0.97      0.97       891\n",
      " \n",
      " --------------------------\n"
     ]
    }
   ],
   "source": [
    "xgb_clf = xgb.XGBClassifier(use_label_encoder=False, eval_metric='logloss')\n",
    "\n",
    "xgb_clf.fit(X_train, y_train)\n",
    "\n",
    "y_pred_train = xgb_clf.predict(X_train)\n",
    "print(classification_report(y_train, y_pred_train), \"\\n --------------------------\")\n"
   ]
  },
  {
   "cell_type": "markdown",
   "id": "5f7bff13",
   "metadata": {
    "papermill": {
     "duration": 0.004725,
     "end_time": "2025-03-08T12:32:01.872344",
     "exception": false,
     "start_time": "2025-03-08T12:32:01.867619",
     "status": "completed"
    },
    "tags": []
   },
   "source": [
    "# Hyperparameter Tuning with GridSearchCV"
   ]
  },
  {
   "cell_type": "markdown",
   "id": "3b9e3508",
   "metadata": {
    "papermill": {
     "duration": 0.007346,
     "end_time": "2025-03-08T12:32:01.887125",
     "exception": false,
     "start_time": "2025-03-08T12:32:01.879779",
     "status": "completed"
    },
    "tags": []
   },
   "source": [
    "## We want to find the best parameters for the model. Let's tune the hyperparameters using GridSearchCV."
   ]
  },
  {
   "cell_type": "code",
   "execution_count": 7,
   "id": "304d817e",
   "metadata": {
    "execution": {
     "iopub.execute_input": "2025-03-08T12:32:01.899130Z",
     "iopub.status.busy": "2025-03-08T12:32:01.898771Z",
     "iopub.status.idle": "2025-03-08T12:32:13.362031Z",
     "shell.execute_reply": "2025-03-08T12:32:13.360444Z"
    },
    "papermill": {
     "duration": 11.47072,
     "end_time": "2025-03-08T12:32:13.363805",
     "exception": false,
     "start_time": "2025-03-08T12:32:01.893085",
     "status": "completed"
    },
    "tags": []
   },
   "outputs": [
    {
     "name": "stdout",
     "output_type": "stream",
     "text": [
      "{'learning_rate': 0.2, 'max_depth': 3, 'n_estimators': 100}\n",
      "Best GridSearchCV Score:  0.8372857949908983\n"
     ]
    },
    {
     "data": {
      "text/html": [
       "<style>#sk-container-id-1 {color: black;background-color: white;}#sk-container-id-1 pre{padding: 0;}#sk-container-id-1 div.sk-toggleable {background-color: white;}#sk-container-id-1 label.sk-toggleable__label {cursor: pointer;display: block;width: 100%;margin-bottom: 0;padding: 0.3em;box-sizing: border-box;text-align: center;}#sk-container-id-1 label.sk-toggleable__label-arrow:before {content: \"▸\";float: left;margin-right: 0.25em;color: #696969;}#sk-container-id-1 label.sk-toggleable__label-arrow:hover:before {color: black;}#sk-container-id-1 div.sk-estimator:hover label.sk-toggleable__label-arrow:before {color: black;}#sk-container-id-1 div.sk-toggleable__content {max-height: 0;max-width: 0;overflow: hidden;text-align: left;background-color: #f0f8ff;}#sk-container-id-1 div.sk-toggleable__content pre {margin: 0.2em;color: black;border-radius: 0.25em;background-color: #f0f8ff;}#sk-container-id-1 input.sk-toggleable__control:checked~div.sk-toggleable__content {max-height: 200px;max-width: 100%;overflow: auto;}#sk-container-id-1 input.sk-toggleable__control:checked~label.sk-toggleable__label-arrow:before {content: \"▾\";}#sk-container-id-1 div.sk-estimator input.sk-toggleable__control:checked~label.sk-toggleable__label {background-color: #d4ebff;}#sk-container-id-1 div.sk-label input.sk-toggleable__control:checked~label.sk-toggleable__label {background-color: #d4ebff;}#sk-container-id-1 input.sk-hidden--visually {border: 0;clip: rect(1px 1px 1px 1px);clip: rect(1px, 1px, 1px, 1px);height: 1px;margin: -1px;overflow: hidden;padding: 0;position: absolute;width: 1px;}#sk-container-id-1 div.sk-estimator {font-family: monospace;background-color: #f0f8ff;border: 1px dotted black;border-radius: 0.25em;box-sizing: border-box;margin-bottom: 0.5em;}#sk-container-id-1 div.sk-estimator:hover {background-color: #d4ebff;}#sk-container-id-1 div.sk-parallel-item::after {content: \"\";width: 100%;border-bottom: 1px solid gray;flex-grow: 1;}#sk-container-id-1 div.sk-label:hover label.sk-toggleable__label {background-color: #d4ebff;}#sk-container-id-1 div.sk-serial::before {content: \"\";position: absolute;border-left: 1px solid gray;box-sizing: border-box;top: 0;bottom: 0;left: 50%;z-index: 0;}#sk-container-id-1 div.sk-serial {display: flex;flex-direction: column;align-items: center;background-color: white;padding-right: 0.2em;padding-left: 0.2em;position: relative;}#sk-container-id-1 div.sk-item {position: relative;z-index: 1;}#sk-container-id-1 div.sk-parallel {display: flex;align-items: stretch;justify-content: center;background-color: white;position: relative;}#sk-container-id-1 div.sk-item::before, #sk-container-id-1 div.sk-parallel-item::before {content: \"\";position: absolute;border-left: 1px solid gray;box-sizing: border-box;top: 0;bottom: 0;left: 50%;z-index: -1;}#sk-container-id-1 div.sk-parallel-item {display: flex;flex-direction: column;z-index: 1;position: relative;background-color: white;}#sk-container-id-1 div.sk-parallel-item:first-child::after {align-self: flex-end;width: 50%;}#sk-container-id-1 div.sk-parallel-item:last-child::after {align-self: flex-start;width: 50%;}#sk-container-id-1 div.sk-parallel-item:only-child::after {width: 0;}#sk-container-id-1 div.sk-dashed-wrapped {border: 1px dashed gray;margin: 0 0.4em 0.5em 0.4em;box-sizing: border-box;padding-bottom: 0.4em;background-color: white;}#sk-container-id-1 div.sk-label label {font-family: monospace;font-weight: bold;display: inline-block;line-height: 1.2em;}#sk-container-id-1 div.sk-label-container {text-align: center;}#sk-container-id-1 div.sk-container {/* jupyter's `normalize.less` sets `[hidden] { display: none; }` but bootstrap.min.css set `[hidden] { display: none !important; }` so we also need the `!important` here to be able to override the default hidden behavior on the sphinx rendered scikit-learn.org. See: https://github.com/scikit-learn/scikit-learn/issues/21755 */display: inline-block !important;position: relative;}#sk-container-id-1 div.sk-text-repr-fallback {display: none;}</style><div id=\"sk-container-id-1\" class=\"sk-top-container\"><div class=\"sk-text-repr-fallback\"><pre>XGBClassifier(base_score=None, booster=None, callbacks=None,\n",
       "              colsample_bylevel=None, colsample_bynode=None,\n",
       "              colsample_bytree=None, device=None, early_stopping_rounds=None,\n",
       "              enable_categorical=False, eval_metric=&#x27;logloss&#x27;,\n",
       "              feature_types=None, gamma=None, grow_policy=None,\n",
       "              importance_type=None, interaction_constraints=None,\n",
       "              learning_rate=0.2, max_bin=None, max_cat_threshold=None,\n",
       "              max_cat_to_onehot=None, max_delta_step=None, max_depth=3,\n",
       "              max_leaves=None, min_child_weight=None, missing=nan,\n",
       "              monotone_constraints=None, multi_strategy=None, n_estimators=100,\n",
       "              n_jobs=None, num_parallel_tree=None, random_state=None, ...)</pre><b>In a Jupyter environment, please rerun this cell to show the HTML representation or trust the notebook. <br />On GitHub, the HTML representation is unable to render, please try loading this page with nbviewer.org.</b></div><div class=\"sk-container\" hidden><div class=\"sk-item\"><div class=\"sk-estimator sk-toggleable\"><input class=\"sk-toggleable__control sk-hidden--visually\" id=\"sk-estimator-id-1\" type=\"checkbox\" checked><label for=\"sk-estimator-id-1\" class=\"sk-toggleable__label sk-toggleable__label-arrow\">XGBClassifier</label><div class=\"sk-toggleable__content\"><pre>XGBClassifier(base_score=None, booster=None, callbacks=None,\n",
       "              colsample_bylevel=None, colsample_bynode=None,\n",
       "              colsample_bytree=None, device=None, early_stopping_rounds=None,\n",
       "              enable_categorical=False, eval_metric=&#x27;logloss&#x27;,\n",
       "              feature_types=None, gamma=None, grow_policy=None,\n",
       "              importance_type=None, interaction_constraints=None,\n",
       "              learning_rate=0.2, max_bin=None, max_cat_threshold=None,\n",
       "              max_cat_to_onehot=None, max_delta_step=None, max_depth=3,\n",
       "              max_leaves=None, min_child_weight=None, missing=nan,\n",
       "              monotone_constraints=None, multi_strategy=None, n_estimators=100,\n",
       "              n_jobs=None, num_parallel_tree=None, random_state=None, ...)</pre></div></div></div></div></div>"
      ],
      "text/plain": [
       "XGBClassifier(base_score=None, booster=None, callbacks=None,\n",
       "              colsample_bylevel=None, colsample_bynode=None,\n",
       "              colsample_bytree=None, device=None, early_stopping_rounds=None,\n",
       "              enable_categorical=False, eval_metric='logloss',\n",
       "              feature_types=None, gamma=None, grow_policy=None,\n",
       "              importance_type=None, interaction_constraints=None,\n",
       "              learning_rate=0.2, max_bin=None, max_cat_threshold=None,\n",
       "              max_cat_to_onehot=None, max_delta_step=None, max_depth=3,\n",
       "              max_leaves=None, min_child_weight=None, missing=nan,\n",
       "              monotone_constraints=None, multi_strategy=None, n_estimators=100,\n",
       "              n_jobs=None, num_parallel_tree=None, random_state=None, ...)"
      ]
     },
     "execution_count": 7,
     "metadata": {},
     "output_type": "execute_result"
    }
   ],
   "source": [
    "cv = ShuffleSplit(5, test_size=0.20, random_state=42)\n",
    "\n",
    "param_grid = {\n",
    "    \"max_depth\": [3, 5, 7],\n",
    "    \"learning_rate\": [0.01, 0.1, 0.2],\n",
    "    \"n_estimators\": [100, 200, 300]\n",
    "}\n",
    "\n",
    "xgb_grid = GridSearchCV(xgb_clf, param_grid=param_grid, scoring=\"accuracy\", return_train_score=True, verbose=0)\n",
    "xgb_grid.fit(X_train, y_train)\n",
    "print(xgb_grid.best_params_)\n",
    "print(\"Best GridSearchCV Score: \", xgb_grid.best_score_)\n",
    "\n",
    "best_xgb = xgb_grid.best_estimator_\n",
    "\n",
    "best_xgb.fit(X_train, y_train)\n"
   ]
  },
  {
   "cell_type": "markdown",
   "id": "f862db54",
   "metadata": {
    "papermill": {
     "duration": 0.004696,
     "end_time": "2025-03-08T12:32:13.374266",
     "exception": false,
     "start_time": "2025-03-08T12:32:13.369570",
     "status": "completed"
    },
    "tags": []
   },
   "source": [
    "# Model Predictions and Submission"
   ]
  },
  {
   "cell_type": "markdown",
   "id": "383a798d",
   "metadata": {
    "papermill": {
     "duration": 0.004614,
     "end_time": "2025-03-08T12:32:13.383869",
     "exception": false,
     "start_time": "2025-03-08T12:32:13.379255",
     "status": "completed"
    },
    "tags": []
   },
   "source": [
    "### Once our model is tuned and trained, we can predict on the test dataset and prepare the submission. But achieving a good accuracy on the training data does not guarantee the same performance on the test data. In fact, the test dataset is a more accurate reflection of how well the model generalizes to new, unseen data. "
   ]
  },
  {
   "cell_type": "code",
   "execution_count": 8,
   "id": "56d8b267",
   "metadata": {
    "execution": {
     "iopub.execute_input": "2025-03-08T12:32:13.395158Z",
     "iopub.status.busy": "2025-03-08T12:32:13.394815Z",
     "iopub.status.idle": "2025-03-08T12:32:13.408850Z",
     "shell.execute_reply": "2025-03-08T12:32:13.407461Z"
    },
    "papermill": {
     "duration": 0.02166,
     "end_time": "2025-03-08T12:32:13.410476",
     "exception": false,
     "start_time": "2025-03-08T12:32:13.388816",
     "status": "completed"
    },
    "tags": []
   },
   "outputs": [],
   "source": [
    "y_pred = best_xgb.predict(X_test)\n",
    "\n",
    "output = pd.DataFrame({'PassengerId': passenger_ID, 'Survived': y_pred})\n",
    "\n",
    "output.to_csv('submission.csv', index=False)\n"
   ]
  },
  {
   "cell_type": "markdown",
   "id": "a42d264d",
   "metadata": {
    "papermill": {
     "duration": 0.004707,
     "end_time": "2025-03-08T12:32:13.420678",
     "exception": false,
     "start_time": "2025-03-08T12:32:13.415971",
     "status": "completed"
    },
    "tags": []
   },
   "source": [
    "# Visualizing Model Performance"
   ]
  },
  {
   "cell_type": "markdown",
   "id": "78db51f6",
   "metadata": {
    "papermill": {
     "duration": 0.004368,
     "end_time": "2025-03-08T12:32:13.429871",
     "exception": false,
     "start_time": "2025-03-08T12:32:13.425503",
     "status": "completed"
    },
    "tags": []
   },
   "source": [
    "## Let's visualize the importance of features in our final XGBoost model."
   ]
  },
  {
   "cell_type": "markdown",
   "id": "0f587ff2",
   "metadata": {
    "papermill": {
     "duration": 0.004353,
     "end_time": "2025-03-08T12:32:13.438813",
     "exception": false,
     "start_time": "2025-03-08T12:32:13.434460",
     "status": "completed"
    },
    "tags": []
   },
   "source": [
    "### Feature Importance"
   ]
  },
  {
   "cell_type": "code",
   "execution_count": 9,
   "id": "301022cb",
   "metadata": {
    "execution": {
     "iopub.execute_input": "2025-03-08T12:32:13.449543Z",
     "iopub.status.busy": "2025-03-08T12:32:13.449196Z",
     "iopub.status.idle": "2025-03-08T12:32:13.578237Z",
     "shell.execute_reply": "2025-03-08T12:32:13.577358Z"
    },
    "papermill": {
     "duration": 0.135962,
     "end_time": "2025-03-08T12:32:13.579529",
     "exception": false,
     "start_time": "2025-03-08T12:32:13.443567",
     "status": "completed"
    },
    "tags": []
   },
   "outputs": [
    {
     "data": {
      "text/plain": [
       "<Figure size 1000x800 with 0 Axes>"
      ]
     },
     "metadata": {},
     "output_type": "display_data"
    },
    {
     "data": {
      "image/png": "[encoded data removed]",
      "text/plain": [
       "<Figure size 640x480 with 1 Axes>"
      ]
     },
     "metadata": {},
     "output_type": "display_data"
    }
   ],
   "source": [
    "plt.figure(figsize=(10, 8))\n",
    "xgb.plot_importance(best_xgb, importance_type='weight', max_num_features=10)\n",
    "plt.title(\"Top 10 Feature Importances\", fontsize=14)\n",
    "plt.show()"
   ]
  },
  {
   "cell_type": "markdown",
   "id": "72e555b0",
   "metadata": {
    "papermill": {
     "duration": 0.006575,
     "end_time": "2025-03-08T12:32:13.591857",
     "exception": false,
     "start_time": "2025-03-08T12:32:13.585282",
     "status": "completed"
    },
    "tags": []
   },
   "source": [
    "### Confusion Matrix\n"
   ]
  },
  {
   "cell_type": "code",
   "execution_count": 10,
   "id": "81c87c3d",
   "metadata": {
    "execution": {
     "iopub.execute_input": "2025-03-08T12:32:13.604487Z",
     "iopub.status.busy": "2025-03-08T12:32:13.604019Z",
     "iopub.status.idle": "2025-03-08T12:32:13.771651Z",
     "shell.execute_reply": "2025-03-08T12:32:13.770397Z"
    },
    "papermill": {
     "duration": 0.176493,
     "end_time": "2025-03-08T12:32:13.774002",
     "exception": false,
     "start_time": "2025-03-08T12:32:13.597509",
     "status": "completed"
    },
    "tags": []
   },
   "outputs": [
    {
     "data": {
      "image/png": "[encoded data removed]",
      "text/plain": [
       "<Figure size 800x600 with 2 Axes>"
      ]
     },
     "metadata": {},
     "output_type": "display_data"
    }
   ],
   "source": [
    "cm = confusion_matrix(y_train, best_xgb.predict(X_train))\n",
    "\n",
    "plt.figure(figsize=(8, 6))\n",
    "sns.heatmap(cm, annot=True, fmt=\"d\", cmap=\"Blues\", xticklabels=[\"Not Survived\", \"Survived\"], yticklabels=[\"Not Survived\", \"Survived\"])\n",
    "plt.title(\"Confusion Matrix\", fontsize=14)\n",
    "plt.xlabel(\"Predicted\", fontsize=12)\n",
    "plt.ylabel(\"True\", fontsize=12)\n",
    "plt.show()\n"
   ]
  },
  {
   "cell_type": "markdown",
   "id": "d3080f79",
   "metadata": {
    "papermill": {
     "duration": 0.005716,
     "end_time": "2025-03-08T12:32:13.786529",
     "exception": false,
     "start_time": "2025-03-08T12:32:13.780813",
     "status": "completed"
    },
    "tags": []
   },
   "source": [
    "# Conclusion"
   ]
  },
  {
   "cell_type": "markdown",
   "id": "e07a27b0",
   "metadata": {
    "papermill": {
     "duration": 0.006048,
     "end_time": "2025-03-08T12:32:13.799398",
     "exception": false,
     "start_time": "2025-03-08T12:32:13.793350",
     "status": "completed"
    },
    "tags": []
   },
   "source": [
    "### And that’s it! We’ve built a model using XGBoost and improved its performance using hyperparameter tuning. We visualized some cool charts and analyzed our results. You can now download the submission CSV file and submit it.\n",
    "\n"
   ]
  },
  {
   "cell_type": "code",
   "execution_count": 11,
   "id": "b05342a5",
   "metadata": {
    "execution": {
     "iopub.execute_input": "2025-03-08T12:32:13.812290Z",
     "iopub.status.busy": "2025-03-08T12:32:13.811940Z",
     "iopub.status.idle": "2025-03-08T12:32:13.817536Z",
     "shell.execute_reply": "2025-03-08T12:32:13.816553Z"
    },
    "papermill": {
     "duration": 0.013703,
     "end_time": "2025-03-08T12:32:13.818932",
     "exception": false,
     "start_time": "2025-03-08T12:32:13.805229",
     "status": "completed"
    },
    "tags": []
   },
   "outputs": [],
   "source": [
    "output.to_csv('submission.csv', index=False)"
   ]
  }
 ],
 "metadata": {
  "kaggle": {
   "accelerator": "none",
   "dataSources": [
    {
     "databundleVersionId": 26502,
     "sourceId": 3136,
     "sourceType": "competition"
    }
   ],
   "dockerImageVersionId": 30918,
   "isGpuEnabled": false,
   "isInternetEnabled": true,
   "language": "python",
   "sourceType": "notebook"
  },
  "kernelspec": {
   "display_name": "Python 3",
   "language": "python",
   "name": "python3"
  },
  "language_info": {
   "codemirror_mode": {
    "name": "ipython",
    "version": 3
   },
   "file_extension": ".py",
   "mimetype": "text/x-python",
   "name": "python",
   "nbconvert_exporter": "python",
   "pygments_lexer": "ipython3",
   "version": "3.10.12"
  },
  "papermill": {
   "default_parameters": {},
   "duration": 21.159541,
   "end_time": "2025-03-08T12:32:14.650318",
   "environment_variables": {},
   "exception": null,
   "input_path": "__notebook__.ipynb",
   "output_path": "__notebook__.ipynb",
   "parameters": {},
   "start_time": "2025-03-08T12:31:53.490777",
   "version": "2.6.0"
  }
 },
 "nbformat": 4,
 "nbformat_minor": 5
}
